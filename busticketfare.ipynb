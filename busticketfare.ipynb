{
 "cells": [
  {
   "cell_type": "code",
   "execution_count": 3,
   "id": "1bb9ceca-e250-4ae9-8112-af85de54a675",
   "metadata": {},
   "outputs": [
    {
     "name": "stdin",
     "output_type": "stream",
     "text": [
      "Enter the base fare: ₹ 45\n",
      "Enter your age:  5\n"
     ]
    },
    {
     "name": "stdout",
     "output_type": "stream",
     "text": [
      "Your discounted fare is: ₹31.5\n"
     ]
    }
   ],
   "source": [
    "# Bus ticket fare calculator (with age-based discount)\n",
    "\n",
    "base_fare = float(input(\"Enter the base fare: ₹\"))\n",
    "age = int(input(\"Enter your age: \"))\n",
    "\n",
    "if age < 0:\n",
    "    print(\"Invalid age entered.\")\n",
    "elif age < 5:\n",
    "    print(\"Your ticket is FREE!\")\n",
    "elif age <= 18:\n",
    "    fare = base_fare * 0.7 \n",
    "    print(f\"Your discounted fare is: ₹{round(fare, 2)}\")\n",
    "elif age > 60:\n",
    "    fare = base_fare * 0.5\n",
    "    print(f\"Your discounted fare is: ₹{round(fare, 2)}\")\n",
    "else:\n",
    "    print(f\"Your fare is: ₹{round(base_fare, 2)}\")\n"
   ]
  },
  {
   "cell_type": "code",
   "execution_count": null,
   "id": "ee9f3b84-ba87-4d80-9c57-7ccd291dbab3",
   "metadata": {},
   "outputs": [],
   "source": []
  }
 ],
 "metadata": {
  "kernelspec": {
   "display_name": "Python 3 (ipykernel)",
   "language": "python",
   "name": "python3"
  },
  "language_info": {
   "codemirror_mode": {
    "name": "ipython",
    "version": 3
   },
   "file_extension": ".py",
   "mimetype": "text/x-python",
   "name": "python",
   "nbconvert_exporter": "python",
   "pygments_lexer": "ipython3",
   "version": "3.13.5"
  }
 },
 "nbformat": 4,
 "nbformat_minor": 5
}
