{
 "cells": [
  {
   "cell_type": "code",
   "execution_count": null,
   "id": "ab16d1a9-b84b-499b-a369-f567e5dfdcc4",
   "metadata": {},
   "outputs": [],
   "source": [
    "#Grade calculator – Input marks → Output grade (A, B, C, etc.)\n",
    "num=int(input(\"Enter marks:\"))\n",
    "if num>=90 and num<=100:\n",
    "    print(\"You have scored A Grade!\")\n",
    "elif num>=80 and num<=90:\n",
    "    print(\"You have scored B Grade!\")\n",
    "elif num>=70 and num<=80:\n",
    "    print(\"You have scored C Grade!\")\n",
    "elif num>=60 and num<=70:\n",
    "    print(\"You have scored D Grade!\")\n",
    "elif num>=50 and num<=60:\n",
    "    print(\"You have scored E Grade!\")\n",
    "else:\n",
    "    print(\"You Failed !\")"
   ]
  }
 ],
 "metadata": {
  "kernelspec": {
   "display_name": "Python 3 (ipykernel)",
   "language": "python",
   "name": "python3"
  },
  "language_info": {
   "codemirror_mode": {
    "name": "ipython",
    "version": 3
   },
   "file_extension": ".py",
   "mimetype": "text/x-python",
   "name": "python",
   "nbconvert_exporter": "python",
   "pygments_lexer": "ipython3",
   "version": "3.13.5"
  }
 },
 "nbformat": 4,
 "nbformat_minor": 5
}
