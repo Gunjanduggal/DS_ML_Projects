{
 "cells": [
  {
   "cell_type": "code",
   "execution_count": 1,
   "id": "2b83c401-9fd4-45a5-82a1-71e88bc9575c",
   "metadata": {},
   "outputs": [
    {
     "name": "stdin",
     "output_type": "stream",
     "text": [
      "Enter your overdue days:  45\n"
     ]
    },
    {
     "name": "stdout",
     "output_type": "stream",
     "text": [
      "Your due amount is:  190\n"
     ]
    }
   ],
   "source": [
    "\n",
    "# Library fine calculator (based on overdue days)\n",
    "\n",
    "overdue_days = int(input(\"Enter your overdue days: \"))\n",
    "if overdue_days <= 0:\n",
    "    fine = 0\n",
    "    print(\"Your due amount is: \", fine)\n",
    "elif overdue_days <= 5:\n",
    "    fine = overdue_days * 1\n",
    "    print(\"Your due amount is: \", fine)\n",
    "elif overdue_days <= 10:\n",
    "    fine = (5 * 1) + (overdue_days - 5) * 2\n",
    "    print(\"Your due amount is: \", fine)\n",
    "else:\n",
    "    fine = (5 * 1) + (5 * 2) + (overdue_days - 10) * 5\n",
    "    print(\"Your due amount is: \", fine)\n"
   ]
  },
  {
   "cell_type": "code",
   "execution_count": null,
   "id": "b5b9bd74-2e4b-44ff-b8f6-85b1c8d3b2e6",
   "metadata": {},
   "outputs": [],
   "source": []
  }
 ],
 "metadata": {
  "kernelspec": {
   "display_name": "Python 3 (ipykernel)",
   "language": "python",
   "name": "python3"
  },
  "language_info": {
   "codemirror_mode": {
    "name": "ipython",
    "version": 3
   },
   "file_extension": ".py",
   "mimetype": "text/x-python",
   "name": "python",
   "nbconvert_exporter": "python",
   "pygments_lexer": "ipython3",
   "version": "3.13.5"
  }
 },
 "nbformat": 4,
 "nbformat_minor": 5
}
