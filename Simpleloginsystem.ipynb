{
 "cells": [
  {
   "cell_type": "code",
   "execution_count": null,
   "id": "bb532eac-3357-4843-af13-22b9675cea61",
   "metadata": {},
   "outputs": [],
   "source": [
    "# Simple login system (with 3 attempts)\n",
    "\n",
    "username = 'Gunjan@27'\n",
    "password = 123456\n",
    "attempt = 3\n",
    "\n",
    "while attempt > 0:\n",
    "    user = input(\"Enter your userame: \")\n",
    "    pin = input(\"Enter your password: \")\n",
    "    if user == username and pin == str(password):\n",
    "        print(\"Access granted\")\n",
    "        break\n",
    "    else:\n",
    "        attempt -= 1\n",
    "        print(\"Invalid credentials! \", attempt, \" attempts left\")\n"
   ]
  }
 ],
 "metadata": {
  "kernelspec": {
   "display_name": "Python 3 (ipykernel)",
   "language": "python",
   "name": "python3"
  },
  "language_info": {
   "codemirror_mode": {
    "name": "ipython",
    "version": 3
   },
   "file_extension": ".py",
   "mimetype": "text/x-python",
   "name": "python",
   "nbconvert_exporter": "python",
   "pygments_lexer": "ipython3",
   "version": "3.13.5"
  }
 },
 "nbformat": 4,
 "nbformat_minor": 5
}
