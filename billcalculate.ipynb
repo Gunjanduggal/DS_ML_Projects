{
 "cells": [
  {
   "cell_type": "code",
   "execution_count": 4,
   "id": "9ffdd395-6331-4cf4-a526-589e4a8d439a",
   "metadata": {},
   "outputs": [
    {
     "name": "stdin",
     "output_type": "stream",
     "text": [
      "Enter your units consumed:  600\n"
     ]
    },
    {
     "name": "stdout",
     "output_type": "stream",
     "text": [
      "\n",
      "------ Electricity Bill ------\n",
      "Units Consumed : 600\n",
      "Fixed Charge   : ₹50\n",
      "Total Bill     : ₹4050\n"
     ]
    }
   ],
   "source": [
    "# Electricity bill generator (based on units)\n",
    "\n",
    "units=int(input(\"Enter your units consumed: \"))\n",
    "fixed_charge = 50\n",
    "total_bill=0\n",
    "if units<=100:\n",
    "    bill=units * 3\n",
    "    total_bill = bill + fixed_charge\n",
    "    print(\"\\n------ Electricity Bill ------\")\n",
    "    print(f\"Units Consumed : {units}\")\n",
    "    print(f\"Fixed Charge   : ₹50\")\n",
    "    \n",
    "elif units<=200:\n",
    "    bill=(100 * 3) + (units - 100) * 5\n",
    "    total_bill = bill + fixed_charge\n",
    "    print(\"\\n------ Electricity Bill ------\")\n",
    "    print(f\"Units Consumed : {units}\")\n",
    "    print(f\"Fixed Charge   : ₹50\")\n",
    "    print(f\"Total Bill     : ₹{total_bill}\")\n",
    "    \n",
    "else:\n",
    "    bill=(100 * 3) + (100 * 5) + (units - 200) * 8\n",
    "    total_bill = bill + fixed_charge\n",
    "    print(\"\\n------ Electricity Bill ------\")\n",
    "    print(f\"Units Consumed : {units}\")\n",
    "    print(f\"Fixed Charge   : ₹50\")\n",
    "    print(f\"Total Bill     : ₹{total_bill}\")\n",
    "   "
   ]
  },
  {
   "cell_type": "code",
   "execution_count": null,
   "id": "99bb38fd-986c-4590-86a8-bff014bf36c1",
   "metadata": {},
   "outputs": [],
   "source": []
  }
 ],
 "metadata": {
  "kernelspec": {
   "display_name": "Python 3 (ipykernel)",
   "language": "python",
   "name": "python3"
  },
  "language_info": {
   "codemirror_mode": {
    "name": "ipython",
    "version": 3
   },
   "file_extension": ".py",
   "mimetype": "text/x-python",
   "name": "python",
   "nbconvert_exporter": "python",
   "pygments_lexer": "ipython3",
   "version": "3.13.5"
  }
 },
 "nbformat": 4,
 "nbformat_minor": 5
}
