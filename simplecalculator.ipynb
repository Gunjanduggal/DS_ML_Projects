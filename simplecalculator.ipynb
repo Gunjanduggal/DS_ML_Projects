{
 "cells": [
  {
   "cell_type": "code",
   "execution_count": null,
   "id": "71d53e81-719c-4df1-b78f-6ecc58e975d4",
   "metadata": {},
   "outputs": [
    {
     "name": "stdout",
     "output_type": "stream",
     "text": [
      "********Main Menu*********\n"
     ]
    },
    {
     "name": "stdin",
     "output_type": "stream",
     "text": [
      "Enter number 1:  34\n",
      "Enter number 2:  345\n",
      "Enter operator:  +\n"
     ]
    },
    {
     "name": "stdout",
     "output_type": "stream",
     "text": [
      "Addition of:  34 and 345 is 379\n",
      "********Main Menu*********\n"
     ]
    },
    {
     "name": "stdin",
     "output_type": "stream",
     "text": [
      "Enter number 1:  73846\n",
      "Enter number 2:  9776\n",
      "Enter operator:  *\n"
     ]
    },
    {
     "name": "stdout",
     "output_type": "stream",
     "text": [
      "Multiplication of:  73846 and 9776 is 721918496\n",
      "********Main Menu*********\n"
     ]
    },
    {
     "name": "stdin",
     "output_type": "stream",
     "text": [
      "Enter number 1:  8226345\n",
      "Enter number 2:  94374586\n",
      "Enter operator:  /\n"
     ]
    },
    {
     "name": "stdout",
     "output_type": "stream",
     "text": [
      "Divison of:  8226345 and 94374586 is 0.0871669519164831\n",
      "********Main Menu*********\n"
     ]
    },
    {
     "name": "stdin",
     "output_type": "stream",
     "text": [
      "Enter number 1:  5384\n",
      "Enter number 2:  47346\n",
      "Enter operator:  -\n"
     ]
    },
    {
     "name": "stdout",
     "output_type": "stream",
     "text": [
      "Subtraction of:  5384 and 47346 is -41962\n",
      "********Main Menu*********\n"
     ]
    }
   ],
   "source": [
    "### Simple calculator – Choose operation (+, -, *, /) → Output result\n",
    "while True:\n",
    "    print(\"********Main Menu*********\")\n",
    "    num1=int(input(\"Enter number 1: \"))\n",
    "    num2=int(input(\"Enter number 2: \"))\n",
    "    operator= input(\"Enter operator: \")\n",
    "    if operator=='+':\n",
    "        print(\"Addition of: \", num1,\"and\", num2,\"is\",num1+num2)\n",
    "    elif operator=='-':\n",
    "         print(\"Subtraction of: \", num1,\"and\", num2,\"is\",num1-num2)\n",
    "    elif operator=='*':\n",
    "        print(\"Multiplication of: \", num1,\"and\", num2,\"is\",num1*num2)\n",
    "    elif operator=='/':\n",
    "        if num2!=0:\n",
    "            print(\"Divison of: \", num1,\"and\", num2,\"is\",num1 /num2)\n",
    "        else:\n",
    "            print(\"Division cannot be done with denominator 0\")\n",
    "    else:\n",
    "        print(\"Invalid choice\")\n"
   ]
  },
  {
   "cell_type": "code",
   "execution_count": null,
   "id": "770b6ba0-9150-40f8-8cea-7866a88831c2",
   "metadata": {},
   "outputs": [],
   "source": []
  }
 ],
 "metadata": {
  "kernelspec": {
   "display_name": "Python 3 (ipykernel)",
   "language": "python",
   "name": "python3"
  },
  "language_info": {
   "codemirror_mode": {
    "name": "ipython",
    "version": 3
   },
   "file_extension": ".py",
   "mimetype": "text/x-python",
   "name": "python",
   "nbconvert_exporter": "python",
   "pygments_lexer": "ipython3",
   "version": "3.13.5"
  }
 },
 "nbformat": 4,
 "nbformat_minor": 5
}
